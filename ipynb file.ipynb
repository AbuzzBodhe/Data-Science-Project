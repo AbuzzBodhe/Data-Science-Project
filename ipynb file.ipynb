{
 "cells": [
  {
   "cell_type": "code",
   "execution_count": 1,
   "id": "546f8513",
   "metadata": {},
   "outputs": [],
   "source": [
    "import os\n",
    "import glob\n",
    "import pandas as pd\n",
    "import matplotlib.pyplot as plt\n",
    "import seaborn as sns"
   ]
  },
  {
   "cell_type": "markdown",
   "id": "b78377c7",
   "metadata": {},
   "source": [
    "# Combining both 2022 & 2023 .csv files together"
   ]
  },
  {
   "cell_type": "code",
   "execution_count": 2,
   "id": "3ad67ad2",
   "metadata": {},
   "outputs": [
    {
     "name": "stdout",
     "output_type": "stream",
     "text": [
      "Number of DataFrames in folder1: 74\n",
      "Number of DataFrames in folder2: 46\n",
      "Folders combined successfully!\n"
     ]
    }
   ],
   "source": [
    "def read_csv_files(folder):\n",
    "    csv_files = glob.glob(os.path.join(folder, '*.csv'))\n",
    "    dataframes = []\n",
    "\n",
    "    for file in csv_files:\n",
    "        try:\n",
    "            df = pd.read_csv(file, encoding='latin-1', low_memory=False)\n",
    "            dataframes.append(df)\n",
    "        except pd.errors.EmptyDataError:\n",
    "            print(f\"Warning: Empty file detected - {file}\")\n",
    "        except pd.errors.ParserError:\n",
    "            print(f\"Error reading file - {file}\")\n",
    "\n",
    "    return dataframes\n",
    "\n",
    "folder1 = \"/Users/apple/Desktop/csv_data_2023\"\n",
    "folder2 = \"/Users/apple/Desktop/csv_data_2022\"\n",
    "\n",
    "dataframes_folder1 = read_csv_files(folder1)\n",
    "dataframes_folder2 = read_csv_files(folder2)\n",
    "\n",
    "print(f\"Number of DataFrames in folder1: {len(dataframes_folder1)}\")\n",
    "print(f\"Number of DataFrames in folder2: {len(dataframes_folder2)}\")\n",
    "\n",
    "     # Combine dataframes from both folders.\n",
    "if dataframes_folder1 or dataframes_folder2:\n",
    "    df = pd.concat(dataframes_folder1+ dataframes_folder2, ignore_index=True)  \n",
    "    print(\"Folders combined successfully!\")\n",
    "else:\n",
    "    print(\"No objects to concatenate.\")\n",
    "\n",
    "    "
   ]
  },
  {
   "cell_type": "markdown",
   "id": "8eafc9bf",
   "metadata": {},
   "source": [
    "# Merging required columns and Droping rest of the columns"
   ]
  },
  {
   "cell_type": "code",
   "execution_count": 3,
   "id": "122d35fe",
   "metadata": {},
   "outputs": [
    {
     "name": "stderr",
     "output_type": "stream",
     "text": [
      "/var/folders/35/hh7sg70925x6lzyc48r11lkh0000gn/T/ipykernel_73802/3158389279.py:1: PerformanceWarning: DataFrame is highly fragmented.  This is usually the result of calling `frame.insert` many times, which has poor performance.  Consider joining all columns at once using pd.concat(axis=1) instead. To get a de-fragmented frame, use `newframe = frame.copy()`\n",
      "  df['A_Time'] = df['Time'].fillna(df[' Time']).fillna(df['Time ( in AM)']).fillna(df['Time ']).fillna(df['TIME']).fillna(df['time'])\n"
     ]
    }
   ],
   "source": [
    "df['A_Time'] = df['Time'].fillna(df[' Time']).fillna(df['Time ( in AM)']).fillna(df['Time ']).fillna(df['TIME']).fillna(df['time'])"
   ]
  },
  {
   "cell_type": "code",
   "execution_count": 4,
   "id": "2c2e1ef6",
   "metadata": {},
   "outputs": [
    {
     "name": "stderr",
     "output_type": "stream",
     "text": [
      "/var/folders/35/hh7sg70925x6lzyc48r11lkh0000gn/T/ipykernel_73802/3499913171.py:1: PerformanceWarning: DataFrame is highly fragmented.  This is usually the result of calling `frame.insert` many times, which has poor performance.  Consider joining all columns at once using pd.concat(axis=1) instead. To get a de-fragmented frame, use `newframe = frame.copy()`\n",
      "  df['A_Date'] = df['Date'].fillna(df['ï»¿Date']).fillna(df['ï»¿Date ']).fillna(df['DATE']).fillna(df['date']).fillna(df['Date of Car']).fillna(df['Date ']).fillna(df['ï»¿date'])\n"
     ]
    }
   ],
   "source": [
    "df['A_Date'] = df['Date'].fillna(df['ï»¿Date']).fillna(df['ï»¿Date ']).fillna(df['DATE']).fillna(df['date']).fillna(df['Date of Car']).fillna(df['Date ']).fillna(df['ï»¿date'])"
   ]
  },
  {
   "cell_type": "code",
   "execution_count": 5,
   "id": "43c8d66f",
   "metadata": {},
   "outputs": [],
   "source": [
    "df = df.drop(['Date','ï»¿Date','ï»¿Date ','DATE','date','Date of Car','Date ','ï»¿date'], axis=1)"
   ]
  },
  {
   "cell_type": "code",
   "execution_count": 6,
   "id": "4ce7f996",
   "metadata": {},
   "outputs": [],
   "source": [
    "df = df.drop(['Time',' Time','Time ( in AM)','Time ','time','TIME'], axis=1)"
   ]
  },
  {
   "cell_type": "code",
   "execution_count": 7,
   "id": "c1b73d1d",
   "metadata": {},
   "outputs": [
    {
     "name": "stderr",
     "output_type": "stream",
     "text": [
      "/var/folders/35/hh7sg70925x6lzyc48r11lkh0000gn/T/ipykernel_73802/3462095580.py:1: PerformanceWarning: DataFrame is highly fragmented.  This is usually the result of calling `frame.insert` many times, which has poor performance.  Consider joining all columns at once using pd.concat(axis=1) instead. To get a de-fragmented frame, use `newframe = frame.copy()`\n",
      "  df['A_Direction'] = df['Direction'].fillna(df['DIRECTION']).fillna(df[' Direction']).fillna(df['Direction of Vehicle']).fillna(df['direction']).fillna(df['Direction of travel']).fillna(df['Direction of Vehicle']).fillna(df['Vehicle Category']).fillna(df['category'])\n"
     ]
    }
   ],
   "source": [
    "df['A_Direction'] = df['Direction'].fillna(df['DIRECTION']).fillna(df[' Direction']).fillna(df['Direction of Vehicle']).fillna(df['direction']).fillna(df['Direction of travel']).fillna(df['Direction of Vehicle']).fillna(df['Vehicle Category']).fillna(df['category'])"
   ]
  },
  {
   "cell_type": "code",
   "execution_count": 8,
   "id": "0e07e948",
   "metadata": {},
   "outputs": [],
   "source": [
    "df = df.drop(['Direction','DIRECTION',' Direction','Direction of Vehicle','direction','Direction of travel','Direction of Vehicle'],axis=1)"
   ]
  },
  {
   "cell_type": "code",
   "execution_count": 9,
   "id": "2578aa73",
   "metadata": {},
   "outputs": [
    {
     "name": "stderr",
     "output_type": "stream",
     "text": [
      "/var/folders/35/hh7sg70925x6lzyc48r11lkh0000gn/T/ipykernel_73802/1171210128.py:1: PerformanceWarning: DataFrame is highly fragmented.  This is usually the result of calling `frame.insert` many times, which has poor performance.  Consider joining all columns at once using pd.concat(axis=1) instead. To get a de-fragmented frame, use `newframe = frame.copy()`\n",
      "  df['A_Type'] = df['Type'].fillna(df['Type of vehicle']).fillna(df['VEHICLE TYPE']).fillna(df['Type ']).fillna(df['Type of Vehicle']).fillna(df[' Type']).fillna(df['Vehicle Type']).fillna(df['vehicle_type']).fillna(df['Category of vehicle']).fillna(df['TYPE']).fillna(df['type']).fillna(df['Vehicle Category']).fillna(df['category'])\n"
     ]
    }
   ],
   "source": [
    "df['A_Type'] = df['Type'].fillna(df['Type of vehicle']).fillna(df['VEHICLE TYPE']).fillna(df['Type ']).fillna(df['Type of Vehicle']).fillna(df[' Type']).fillna(df['Vehicle Type']).fillna(df['vehicle_type']).fillna(df['Category of vehicle']).fillna(df['TYPE']).fillna(df['type']).fillna(df['Vehicle Category']).fillna(df['category'])"
   ]
  },
  {
   "cell_type": "code",
   "execution_count": 10,
   "id": "115e16fd",
   "metadata": {},
   "outputs": [],
   "source": [
    "df = df.drop(['Type of vehicle','VEHICLE TYPE','Type ','Type of Vehicle',' Type','Vehicle Type','vehicle_type','Category of vehicle','TYPE','type','Vehicle Category','category'],axis=1)"
   ]
  },
  {
   "cell_type": "code",
   "execution_count": 11,
   "id": "eaf2a876",
   "metadata": {},
   "outputs": [
    {
     "name": "stderr",
     "output_type": "stream",
     "text": [
      "/var/folders/35/hh7sg70925x6lzyc48r11lkh0000gn/T/ipykernel_73802/3053650026.py:1: PerformanceWarning: DataFrame is highly fragmented.  This is usually the result of calling `frame.insert` many times, which has poor performance.  Consider joining all columns at once using pd.concat(axis=1) instead. To get a de-fragmented frame, use `newframe = frame.copy()`\n",
      "  df['A_Occupancy'] = df['Occupancy'].fillna(df['VEHICLE OCCUPANCY']).fillna(df[' Occupancy']).fillna(df['occupancy']).fillna(df['Occupancy of the Vehicle']).fillna(df['OCCUPANCY'])\n"
     ]
    }
   ],
   "source": [
    "df['A_Occupancy'] = df['Occupancy'].fillna(df['VEHICLE OCCUPANCY']).fillna(df[' Occupancy']).fillna(df['occupancy']).fillna(df['Occupancy of the Vehicle']).fillna(df['OCCUPANCY'])"
   ]
  },
  {
   "cell_type": "code",
   "execution_count": 12,
   "id": "a5d77f0b",
   "metadata": {},
   "outputs": [],
   "source": [
    "df = df.drop(['Occupancy','VEHICLE OCCUPANCY',' Occupancy','occupancy','Occupancy of the Vehicle','OCCUPANCY'],axis=1)"
   ]
  },
  {
   "cell_type": "code",
   "execution_count": 13,
   "id": "1ebab350",
   "metadata": {},
   "outputs": [],
   "source": [
    "df = df.drop(['Type'],axis=1)"
   ]
  },
  {
   "cell_type": "code",
   "execution_count": 14,
   "id": "0dcd58de",
   "metadata": {},
   "outputs": [
    {
     "name": "stderr",
     "output_type": "stream",
     "text": [
      "/var/folders/35/hh7sg70925x6lzyc48r11lkh0000gn/T/ipykernel_73802/1044418144.py:1: PerformanceWarning: DataFrame is highly fragmented.  This is usually the result of calling `frame.insert` many times, which has poor performance.  Consider joining all columns at once using pd.concat(axis=1) instead. To get a de-fragmented frame, use `newframe = frame.copy()`\n",
      "  df['A_Colour'] = df['Color'].fillna(df['Colour']).fillna(df['Vehicle Colour']).fillna(df['Colour of Vehicle'])\n"
     ]
    }
   ],
   "source": [
    "df['A_Colour'] = df['Color'].fillna(df['Colour']).fillna(df['Vehicle Colour']).fillna(df['Colour of Vehicle'])"
   ]
  },
  {
   "cell_type": "code",
   "execution_count": 15,
   "id": "fa50d800",
   "metadata": {},
   "outputs": [],
   "source": [
    "df = df.drop(['Color','Colour','Vehicle Colour','Colour of Vehicle'],axis=1)"
   ]
  },
  {
   "cell_type": "code",
   "execution_count": 16,
   "id": "22fd0897",
   "metadata": {},
   "outputs": [],
   "source": [
    "df = df.drop(['Public/Private', 'is_carpool', 'is_rideshare', 'AdditionalData1', 'AdditionalData2', 'Driver Gender', 'Fuel Type', 'Is Electric', 'Service', 'Size', 'Vehicle Purpose', 'Vehicle Age(years)', 'Brand Name', 'Turn Signal', 'Carpool', 'Rideshare', 'Class of the VehicleÂ\\xa0', 'Electric', 'Family Car', 'Tint > 50%?', 'High Tinted Area', 'Weather', 'Area_Code', 'WEATHER', 'Brand', 'Green Vehicle', 'Date Code', 'Driver gender', 'Fuel type', 'Age Group', 'Eco-friendly', 'Vehicle Brand', 'Vehicle Year', 'EV', 'Car Brand', 'Driver_Gender', 'Mode_of_Travel', 'AgeIdentifier', 'Left', 'Right', 'CAR', 'BUS', 'BICYCLE', 'MOTORBIKE', 'TAXI', 'SCOOTER', 'VAN', 'MALE', 'FEMALE', 'MobilityService', 'Unnamed: 0', 'Unnamed: 1', 'Unnamed: 2', 'Unnamed: 3', 'Unnamed: 4', 'Unnamed: 5', 'Unnamed: 6', 'Unnamed: 7', 'Unnamed: 8', 'Unnamed: 9', 'Unnamed: 10', 'Unnamed: 11', 'Unnamed: 12', 'Unnamed: 13', 'Unnamed: 14', 'Window_Tint', 'Rim_Type', 'Vehicle purpose', 'Age Identifier', 'Safety', 'Manufacturing Data', 'Manufactured after 2015', 'Origin', 'Tint > 50% ', 'Tint Area', 'Purpose', ' HasGreenNumberPlate', ' AdditionalData2', 'EcoFriendly', 'Date of vehicle', 'Age_ID', 'Is_env_fr', 'Public Vehicle', 'Zero Emissions', 'Low Emissions Compliant', 'Make', 'Green Badge', 'safety', 'manufacturing_data', 'manufactured_after_2015', 'Public / Private', 'Zero Emission', 'Class_of_the_vehicle\\xa0', 'Age_Id', 'Is_env_friendly', 'Year', 'Age group', 'Part of Mobility Service', 'Eco-Friendly', 'Approach/exit', 'Blinkers/Handgestures', 'Electric or not', 'Electric Vehicle', 'driverâ\\x80\\x98s gender', \"Driver's gender\", 'Car Size', 'Electric or Hybrid?', 'Wait Time', 'No of pedestrian', 'Gender', 'Exhaust Pipe', 'Black smoke', 'Engine Type', 'Turn', 'Use of Phone', 'Use of Seatbelt', 'Female Occupancy', 'Engine', 'Personal', 'Passenger Type', 'Frequency', ' Driver_Age', ' Electric_Vehicle', \"Driver's Gender\", 'CarType', 'DirectionofExit', 'capacity', 'not_petrol', 'Sound_level', 'Electric_vehicle', 'Electric / Non-Electric Vehicle', 'Gender of the driver', ' Vehicle Age', 'GENDER OF DRIVER', 'Data', 'Speed(km/h)', 'FUEL', 'Owner', 'Bus driver gender', 'Electric Vehicle ', 'eco-friendly', 'Transportation Type', '6', 'Public Transport', 'Car Company/Bus No', 'BusNo', 'Transport Type (Public/Private)', 'Pedestrian Count', 'ï»¿ DATA COLLECTION FORM;;;;;', ' Driver Gender', ' Bus Type', ' Vehicle Brand', ' Weather', ' Temperature (C)', 'Cumulative frequency', 'Undergraduate driver', 'Age identifier'],axis=1)"
   ]
  },
  {
   "cell_type": "markdown",
   "id": "ee10612a",
   "metadata": {},
   "source": [
    "# Renaming Columns Name and Reording"
   ]
  },
  {
   "cell_type": "code",
   "execution_count": 17,
   "id": "b35ffdb6",
   "metadata": {},
   "outputs": [],
   "source": [
    "df = df.rename(columns={'A_Time': 'Time',\n",
    "                        'A_Date': 'Date',\n",
    "                        'A_Direction': 'Direction',\n",
    "                        'A_Type': 'Type',\n",
    "                        'A_Colour': 'Colour',\n",
    "                        'A_Occupancy': 'Occupancy'})\n"
   ]
  },
  {
   "cell_type": "code",
   "execution_count": 18,
   "id": "399295f2",
   "metadata": {},
   "outputs": [],
   "source": [
    "new_order = ['Date','Time', 'Type','Direction','Occupancy','Colour' ]\n",
    "df = df[new_order]"
   ]
  },
  {
   "cell_type": "markdown",
   "id": "1f27ba35",
   "metadata": {},
   "source": [
    "# Handling Empty, Missing and Null values"
   ]
  },
  {
   "cell_type": "code",
   "execution_count": 19,
   "id": "4c061b12",
   "metadata": {},
   "outputs": [],
   "source": [
    "# Remove empty rows\n",
    "df = df.dropna(axis=0, how='all')\n",
    "\n",
    "# Remove empty columns\n",
    "df = df.dropna(axis=1, how='all')"
   ]
  },
  {
   "cell_type": "code",
   "execution_count": 20,
   "id": "17405596",
   "metadata": {},
   "outputs": [],
   "source": [
    "df = df.dropna(subset=['Time'])\n",
    "df = df.dropna(subset=['Type'])\n",
    "df = df.dropna(subset=['Direction'])\n",
    "df = df.dropna(subset=['Occupancy'])\n",
    "df = df.dropna(subset=['Colour'])"
   ]
  },
  {
   "cell_type": "markdown",
   "id": "d6190d95",
   "metadata": {},
   "source": [
    "# Handling Date Format"
   ]
  },
  {
   "cell_type": "code",
   "execution_count": 21,
   "id": "74e3d512",
   "metadata": {},
   "outputs": [
    {
     "name": "stderr",
     "output_type": "stream",
     "text": [
      "/var/folders/35/hh7sg70925x6lzyc48r11lkh0000gn/T/ipykernel_73802/1148050915.py:2: UserWarning: The argument 'infer_datetime_format' is deprecated and will be removed in a future version. A strict version of it is now the default, see https://pandas.pydata.org/pdeps/0004-consistent-to-datetime-parsing.html. You can safely remove this argument.\n",
      "  df['Date'] = pd.to_datetime(df['Date'], infer_datetime_format=True, errors='coerce').dt.strftime('%d-%m-%Y')\n",
      "/var/folders/35/hh7sg70925x6lzyc48r11lkh0000gn/T/ipykernel_73802/1148050915.py:2: UserWarning: Parsing dates in %d-%m-%Y format when dayfirst=False (the default) was specified. Pass `dayfirst=True` or specify a format to silence this warning.\n",
      "  df['Date'] = pd.to_datetime(df['Date'], infer_datetime_format=True, errors='coerce').dt.strftime('%d-%m-%Y')\n"
     ]
    }
   ],
   "source": [
    "# Convert the 'A_Date' column to a standardized format\n",
    "df['Date'] = pd.to_datetime(df['Date'], infer_datetime_format=True, errors='coerce').dt.strftime('%d-%m-%Y')\n",
    "\n",
    "# Save the updated DataFrame back to a CSV file\n",
    "df.to_csv('Task_03.csv', index=False)\n"
   ]
  },
  {
   "cell_type": "markdown",
   "id": "7f3fff7c",
   "metadata": {},
   "source": [
    "\n",
    "# Creating a new column name 'Year'"
   ]
  },
  {
   "cell_type": "code",
   "execution_count": 22,
   "id": "51b2bc1c",
   "metadata": {},
   "outputs": [],
   "source": [
    "df['Year'] = pd.to_datetime(df['Date'], format='%d-%m-%Y', errors='coerce').dt.year\n",
    "\n",
    "# Drop rows with missing or invalid date values\n",
    "df = df.dropna(subset=['Year'])\n",
    "\n",
    "# Convert 'Year' to integer\n",
    "df['Year'] = df['Year'].astype(int)"
   ]
  },
  {
   "cell_type": "code",
   "execution_count": 23,
   "id": "c7de3b63",
   "metadata": {},
   "outputs": [],
   "source": [
    "df['Type'] = df['Type'].str.lower()\n",
    "df['Direction'] = df['Direction'].str.lower()\n",
    "df['Colour'] = df['Colour'].str.lower()"
   ]
  },
  {
   "cell_type": "markdown",
   "id": "f7703538",
   "metadata": {},
   "source": [
    "## Handling Time Format"
   ]
  },
  {
   "cell_type": "code",
   "execution_count": 24,
   "id": "b846d523",
   "metadata": {},
   "outputs": [],
   "source": [
    "from datetime import datetime\n",
    "\n",
    "# Define a function to convert various time formats to the desired format\n",
    "def convert_to_single_format(time_str):\n",
    "    try:\n",
    "        # Try to parse the time using various known formats\n",
    "        parsed_time = None\n",
    "        \n",
    "        # Format: '10:41:00 AM'\n",
    "        parsed_time = datetime.strptime(time_str, '%I:%M:%S %p')\n",
    "        \n",
    "    except ValueError:\n",
    "        try:\n",
    "            # Format: '10.50am'\n",
    "            parsed_time = datetime.strptime(time_str, '%I.%M%p')\n",
    "        except ValueError:\n",
    "            try:\n",
    "                # Add more formats as needed\n",
    "                # Format: '10:30 am'\n",
    "                parsed_time = datetime.strptime(time_str, '%I:%M %p')\n",
    "            except ValueError:\n",
    "                try:\n",
    "                  # Format: '10.50'\n",
    "                    parsed_time = datetime.strptime(time_str, '%I.%M')\n",
    "                except ValueError:\n",
    "                    try:\n",
    "                       # Format: '10:50am'\n",
    "                        parsed_time = datetime.strptime(time_str, '%I:%M%p')\n",
    "                    except ValueError:\n",
    "                        try:\n",
    "                           # Format: '10:50am'\n",
    "                           parsed_time = datetime.strptime(time_str, '%I:%M%p')\n",
    "                        except ValueError:\n",
    "                            try:\n",
    "                                parsed_time = datetime.strptime(time_str, '%I.%M%p')\n",
    "                            except ValueError:\n",
    "                                try:\n",
    "                                    #10:10:10\n",
    "                                    parsed_time = datetime.strptime(time_str, '%I:%M:%S')\n",
    "                                except ValueError:\n",
    "                                    return None\n",
    "                                \n",
    "                                \n",
    "    \n",
    "    # Return the time in the desired format\n",
    "    return parsed_time.strftime('%H:%M'+ 'am')\n",
    "\n",
    "# Apply the function to the Time column\n",
    "df['Time'] = df['Time'].apply(convert_to_single_format)\n"
   ]
  },
  {
   "cell_type": "markdown",
   "id": "06af0d33",
   "metadata": {},
   "source": [
    "## Handling Type column"
   ]
  },
  {
   "cell_type": "code",
   "execution_count": 25,
   "id": "a6e6282b",
   "metadata": {},
   "outputs": [],
   "source": [
    "name_mapping = {'c': 'car', ' car': 'car', 'electric car': 'car','electric bike': 'twowheeler','motorbike': 'twowheeler','escooter': 'twowheeler',' scooter': 'twowheeler','scooters': 'twowheeler','scooters': 'twowheeler','moto': 'twowheeler','bike': 'twowheeler',' motorbike': 'twowheeler','motor bike': 'twowheeler', 'b': 'bus', ' bus': 'bus', 'u2': 'bus', 'double decker bus': 'bus','single decker bus': 'bus','80%': 'bus','50%': 'bus','20%': 'bus','10%': 'bus','bu': 'bus','50%': 'bus','4': 'car','2': 'car','3': 'car','1': 'car','bi': 'bicycle','moterbike': 'twowheeler','m': 'twowheeler',' bicycle': 'bicycle'}\n",
    "df['Type'] = df['Type'].replace(name_mapping)"
   ]
  },
  {
   "cell_type": "code",
   "execution_count": 26,
   "id": "e961cc21",
   "metadata": {},
   "outputs": [],
   "source": [
    "name_mapping = {' lorry': 'lorry', ' van': 'van', 'motor': 'twowheeler', 'motorbike': 'twowheeler','e-scooter': 'twowheeler',' scooter': 'twowheeler','scooter': 'twowheeler','scooters': 'twowheeler', 'v': 'van','s': 'twowheeler','t': 'taxi',' taxi': 'taxi', '90%': 'bus', 'bus': 'bus'}\n",
    "df['Type'] = df['Type'].replace(name_mapping)"
   ]
  },
  {
   "cell_type": "code",
   "execution_count": 27,
   "id": "5d84d144",
   "metadata": {},
   "outputs": [],
   "source": [
    "name_mapping = {'l': 'lorry', 'motobike': 'twowheeler', 'motorcycle': 'twowheeler','scooter': 'twowheeler','car': 'car'}\n",
    "df['Type'] = df['Type'].replace(name_mapping)"
   ]
  },
  {
   "cell_type": "code",
   "execution_count": 28,
   "id": "e08c3d81",
   "metadata": {},
   "outputs": [],
   "source": [
    "name_mapping = {'a.v': 'car', \n",
    "                'bus ': 'bus', \n",
    "                'truck': 'lorry',\n",
    "                'scooter ': 'twowheeler',\n",
    "                'car ': 'car',\n",
    "                'bicycle' : 'twowheeler',\n",
    "                'bicycle ' : 'twowheeler',\n",
    "                'motorbike ':'twowheeler',\n",
    "                'tractor':'lorry',\n",
    "                'mini truck':'lorry',\n",
    "                'van ':'van',\n",
    "                'taxi ': 'taxi'\n",
    "                \n",
    "               }\n",
    "\n",
    "\n",
    "df['Type'] = df['Type'].replace(name_mapping)"
   ]
  },
  {
   "cell_type": "code",
   "execution_count": 29,
   "id": "87b35c6c",
   "metadata": {},
   "outputs": [],
   "source": [
    "df = df[df['Type'] != 'pedestrian']\n",
    "df = df[df['Type'] != 'authorised vehicle']\n",
    "df = df[df['Type'] != 'other']"
   ]
  },
  {
   "cell_type": "markdown",
   "id": "0f1dc957",
   "metadata": {},
   "source": [
    "# Handling Colour Type"
   ]
  },
  {
   "cell_type": "code",
   "execution_count": 30,
   "id": "f516a484",
   "metadata": {},
   "outputs": [
    {
     "name": "stdout",
     "output_type": "stream",
     "text": [
      "Unique Types: ['grey' 'other' 'white' 'black' 'blue' 'red' 'bl' 's' 'b' 'n' 'y' 'gr' 'w'\n",
      " 'g' 'sl' 'p' 'r' 'br' 'orange' 'green' 'maroon' 'silver' 'purple' 'pink'\n",
      " 'brown' 'yellow' 't' 'indigo' nan 'cream' 'gray']\n"
     ]
    }
   ],
   "source": [
    "unique_types = df['Colour'].unique()\n",
    "\n",
    "# Print or inspect the unique types\n",
    "print(\"Unique Types:\", unique_types)"
   ]
  },
  {
   "cell_type": "code",
   "execution_count": 31,
   "id": "6961430b",
   "metadata": {},
   "outputs": [],
   "source": [
    " name_mapping = {'gr': 'grey', \n",
    "                'w': 'white', \n",
    "                'bl': 'black',\n",
    "                's': 'silver',\n",
    "                'r': 'red',\n",
    "                'b' : 'blue',\n",
    "                'sl' : 'grey',\n",
    "                'g':'green',\n",
    "                'p':'red',\n",
    "                'y':'yellow',\n",
    "                'br':'brown',\n",
    "                'gray': 'grey',\n",
    "                'cream':'yellow',\n",
    "                 'n':'blue',\n",
    "                 'maroon':'brown',\n",
    "                 'purple':'blue',\n",
    "                 't':'yellow',\n",
    "                 'indigo':'blue'\n",
    "                }\n",
    "\n",
    "\n",
    "df['Colour'] = df['Colour'].replace(name_mapping)"
   ]
  },
  {
   "cell_type": "code",
   "execution_count": 32,
   "id": "74d583fe",
   "metadata": {},
   "outputs": [],
   "source": [
    "df = df[df['Colour'] != 'other']"
   ]
  },
  {
   "cell_type": "markdown",
   "id": "3b3cfc57",
   "metadata": {},
   "source": [
    "# Handling Direction columns"
   ]
  },
  {
   "cell_type": "code",
   "execution_count": 33,
   "id": "5a7af791",
   "metadata": {},
   "outputs": [],
   "source": [
    "name_mapping = {' in': 'in', \n",
    "                ' out': 'out', \n",
    "                ' in ': 'in',\n",
    "                '  in': 'in',\n",
    "                ' ': 'in',\n",
    "                '\"' : 'in'}\n",
    "\n",
    "df['Direction'] = df['Direction'].replace(name_mapping)"
   ]
  },
  {
   "cell_type": "code",
   "execution_count": 34,
   "id": "ddce70db",
   "metadata": {},
   "outputs": [
    {
     "name": "stdout",
     "output_type": "stream",
     "text": [
      "Unique Types: ['out' 'in']\n"
     ]
    }
   ],
   "source": [
    "unique_types = df['Direction'].unique()\n",
    "\n",
    "# Print or inspect the unique types\n",
    "print(\"Unique Types:\", unique_types)"
   ]
  },
  {
   "cell_type": "markdown",
   "id": "80600da4",
   "metadata": {},
   "source": [
    "# Question what is the safest colour to drive?\n",
    "\n",
    "It is important to remember that the colour of your vehicle can play a role, how you drive and how aware you are of others on the road is even more influential at preventing a car accident.\n",
    "The safety of a car color is not solely determined by the color itself but by various factors such as visibility, lighting conditions, and driver behavior. However, some studies suggest that high-visibility colors, such as white, yellow, and orange, may be more visible on the road and, therefore, could potentially contribute to safety.\n"
   ]
  },
  {
   "cell_type": "markdown",
   "id": "66fc7705",
   "metadata": {},
   "source": [
    "# Visualizing Data By Plotting Charts"
   ]
  },
  {
   "cell_type": "markdown",
   "id": "f0c25316",
   "metadata": {},
   "source": [
    "## 1. Comparison bar graph of vehicle colour distribution by year\n",
    "In the below comparison bar graph we can clearly see that in year 2022 & 2023 most people choose black colour for their vehicle"
   ]
  },
  {
   "cell_type": "code",
   "execution_count": 35,
   "id": "48d4a7ec",
   "metadata": {
    "scrolled": false
   },
   "outputs": [
    {
     "data": {
      "image/png": "[encoded data removed]",
      "text/plain": [
       "<Figure size 1200x600 with 1 Axes>"
      ]
     },
     "metadata": {},
     "output_type": "display_data"
    }
   ],
   "source": [
    "plt.figure(figsize=(12, 6))\n",
    "sns.countplot(x='Colour', hue='Year',data=df, palette='viridis')\n",
    "\n",
    "plt.title('Comparison of Vehicle Color Distribution by Year')\n",
    "plt.xlabel('Vehicle Colour')\n",
    "plt.ylabel('Count')\n",
    "plt.show()\n"
   ]
  },
  {
   "cell_type": "markdown",
   "id": "4a3e672c",
   "metadata": {},
   "source": [
    "# 2. Percentage of colour mostly used for vehicles by commute"
   ]
  },
  {
   "cell_type": "code",
   "execution_count": 36,
   "id": "5de45388",
   "metadata": {},
   "outputs": [
    {
     "data": {
      "image/png": "[encoded data removed]",
      "text/plain": [
       "<Figure size 800x800 with 1 Axes>"
      ]
     },
     "metadata": {},
     "output_type": "display_data"
    }
   ],
   "source": [
    "colors_to_drop = ['pink', 'silver','brown','yellow']\n",
    "\n",
    "# Filter out the specified colors\n",
    "filtered_df = df[~df['Colour'].isin(colors_to_drop)]\n",
    "\n",
    "# Calculate the percentage distribution of vehicle colors after dropping specified colors\n",
    "color_percentage = filtered_df['Colour'].value_counts(normalize=True) * 100\n",
    "\n",
    "custom_palette = sns.color_palette('coolwarm', n_colors=len(color_percentage))\n",
    "\n",
    "# Plot a pie chart with the custom color palette\n",
    "plt.figure(figsize=(8, 8))\n",
    "plt.pie(color_percentage, labels=color_percentage.index, autopct='%1.1f%%', colors=custom_palette, startangle=25)\n",
    "plt.title('Percentage Distribution of Vehicle Colours (Pie Chart)')\n",
    "plt.show()"
   ]
  },
  {
   "cell_type": "markdown",
   "id": "b18659d2",
   "metadata": {},
   "source": [
    "# 3. Distribution of Vehicle Colours using bar graph"
   ]
  },
  {
   "cell_type": "code",
   "execution_count": 37,
   "id": "7745b128",
   "metadata": {
    "scrolled": false
   },
   "outputs": [
    {
     "data": {
      "image/png": "[encoded data removed]",
      "text/plain": [
       "<Figure size 1000x600 with 1 Axes>"
      ]
     },
     "metadata": {},
     "output_type": "display_data"
    }
   ],
   "source": [
    "# distribution of vehicle colour overall in both 2022 and 2023 files\n",
    "plt.figure(figsize=(10, 6))\n",
    "ax = sns.countplot(x='Colour', data=df, palette='viridis')\n",
    "\n",
    "for p in ax.patches:\n",
    "    ax.annotate(f'{p.get_height()}', (p.get_x() + p.get_width() / 2., p.get_height()),\n",
    "                ha='center', va='center', xytext=(0, 10), textcoords='offset points')\n",
    "\n",
    "plt.title('Distribution of Vehicle Colours')\n",
    "plt.xlabel('Vehicle Color')\n",
    "plt.ylabel('Count')\n",
    "plt.show()"
   ]
  },
  {
   "cell_type": "code",
   "execution_count": null,
   "id": "c39bf59c",
   "metadata": {},
   "outputs": [],
   "source": []
  }
 ],
 "metadata": {
  "kernelspec": {
   "display_name": "Python 3 (ipykernel)",
   "language": "python",
   "name": "python3"
  },
  "language_info": {
   "codemirror_mode": {
    "name": "ipython",
    "version": 3
   },
   "file_extension": ".py",
   "mimetype": "text/x-python",
   "name": "python",
   "nbconvert_exporter": "python",
   "pygments_lexer": "ipython3",
   "version": "3.11.5"
  }
 },
 "nbformat": 4,
 "nbformat_minor": 5
}
